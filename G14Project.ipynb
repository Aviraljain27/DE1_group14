{
 "cells": [
  {
   "cell_type": "code",
   "execution_count": 99,
   "id": "f5101b2f-54ec-4811-a0c6-79aeba72cff1",
   "metadata": {},
   "outputs": [
    {
     "name": "stdout",
     "output_type": "stream",
     "text": [
      "Spark session started successfully!\n"
     ]
    }
   ],
   "source": [
    "from pyspark.sql import SparkSession\n",
    "from pyspark.sql.functions import count, col, isnan, when\n",
    "from pyspark.sql.types import IntegerType\n",
    "import matplotlib.pyplot as plt\n",
    "import time\n",
    "\n",
    "spark_session = SparkSession.builder \\\n",
    "    .master(\"spark://192.168.2.156:7077\") \\\n",
    "    .appName(\"DEI.G14.Project\")\\\n",
    "    .config(\"spark.dynamicAllocation.enabled\", True)\\\n",
    "    .config(\"spark.dynamicAllocation.shuffleTracking.enabled\",True)\\\n",
    "    .config(\"spark.shuffle.service.enabled\", False)\\\n",
    "    .config(\"spark.dynamicAllocation.executorIdleTimeout\",\"30s\")\\\n",
    "    .config(\"spark.executor.cores\",2)\\\n",
    "    .config(\"spark.driver.port\",9999)\\\n",
    "    .config(\"spark.blockManager.port\",10005)\\\n",
    "    .getOrCreate()\n",
    "\n",
    "print(\"Spark session started successfully!\")"
   ]
  },
  {
   "cell_type": "code",
   "execution_count": 100,
   "id": "ebf57ab9-d239-4493-8bb6-337a34100022",
   "metadata": {},
   "outputs": [
    {
     "name": "stderr",
     "output_type": "stream",
     "text": [
      "[Stage 57:=====================================================>  (21 + 1) / 22]"
     ]
    },
    {
     "name": "stdout",
     "output_type": "stream",
     "text": [
      "root\n",
      " |-- _corrupt_record: string (nullable = true)\n",
      " |-- author: string (nullable = true)\n",
      " |-- body: string (nullable = true)\n",
      " |-- content: string (nullable = true)\n",
      " |-- content_len: long (nullable = true)\n",
      " |-- id: string (nullable = true)\n",
      " |-- normalizedBody: string (nullable = true)\n",
      " |-- subreddit: string (nullable = true)\n",
      " |-- subreddit_id: string (nullable = true)\n",
      " |-- summary: string (nullable = true)\n",
      " |-- summary_len: long (nullable = true)\n",
      " |-- title: string (nullable = true)\n",
      "\n",
      "+---------------+----------------+--------------------+--------------------+-----------+-------+--------------------+-----------+------------+--------------------+-----------+-----+\n",
      "|_corrupt_record|          author|                body|             content|content_len|     id|      normalizedBody|  subreddit|subreddit_id|             summary|summary_len|title|\n",
      "+---------------+----------------+--------------------+--------------------+-----------+-------+--------------------+-----------+------------+--------------------+-----------+-----+\n",
      "|           NULL|raysofdarkmatter|I think it should...|I think it should...|        178|c69al3r|I think it should...|       math|    t5_2qh0n|Shifting seasonal...|          8| NULL|\n",
      "|              \u0000|            NULL|                NULL|                NULL|       NULL|   NULL|                NULL|       NULL|        NULL|                NULL|       NULL| NULL|\n",
      "|           NULL|         Stork13|Art is about the ...|Art is about the ...|        148|c6a9nxd|Art is about the ...|      funny|    t5_2qh33|Personal opinions...|          4| NULL|\n",
      "|              \u0000|            NULL|                NULL|                NULL|       NULL|   NULL|                NULL|       NULL|        NULL|                NULL|       NULL| NULL|\n",
      "|           NULL|   Cloud_dreamer|Ask me what I thi...|Ask me what I thi...|         76|c6acx4l|Ask me what I thi...|Borderlands|    t5_2r8cd|insults and slack...|         73| NULL|\n",
      "+---------------+----------------+--------------------+--------------------+-----------+-------+--------------------+-----------+------------+--------------------+-----------+-----+\n",
      "only showing top 5 rows\n",
      "\n"
     ]
    },
    {
     "name": "stderr",
     "output_type": "stream",
     "text": [
      "                                                                                "
     ]
    }
   ],
   "source": [
    "# 定义文件路径和对应的数据集大小\n",
    "file_paths = {\n",
    "    \"50k\": \"hdfs://192.168.2.156:9000/data/reddit/reddit_50k.json\",\n",
    "    \"100k\": \"hdfs://192.168.2.156:9000/data/reddit/reddit_100k.json\",\n",
    "    \"200k\": \"hdfs://192.168.2.156:9000/data/reddit/reddit_200k.json\",\n",
    "    \"500k\": \"hdfs://192.168.2.156:9000/data/reddit/reddit_500k.json\",\n",
    "    # \"1.5k\": \"hdfs://192.168.2.156:9000/data/G14data/redditdata_1.5k.json\",\n",
    "    # \"15k\": \"hdfs://192.168.2.156:9000/data/G14data/redditdata_15k.json\",\n",
    "    # \"150k\": \"hdfs://192.168.2.156:9000/data/G14data/redditdata_150k.json\",\n",
    "    \"1500k\": \"hdfs://192.168.2.156:9000/data/G14data/redditdata_1500k.json\"\n",
    "}\n",
    "\n",
    "# 选择要加载的数据集大小\n",
    "dataset_size = \"200k\"  # 可以修改为 \"50k\", \"100k\", \"200k\", \"500k\", \"1500k\"\n",
    "file_path = file_paths[dataset_size]\n",
    "\n",
    "# 加载数据集\n",
    "reddit_df = spark_session.read.json(file_path)\n",
    "\n",
    "# 查看数据模式\n",
    "reddit_df.printSchema()\n",
    "\n",
    "# 查看前 5 行数据\n",
    "reddit_df.show(5)"
   ]
  },
  {
   "cell_type": "code",
   "execution_count": 101,
   "id": "302162a8-4ad5-4297-a1cc-bd76adc47181",
   "metadata": {},
   "outputs": [
    {
     "name": "stderr",
     "output_type": "stream",
     "text": [
      "[Stage 59:=====================================================>  (21 + 1) / 22]"
     ]
    },
    {
     "name": "stdout",
     "output_type": "stream",
     "text": [
      "+---------------+------+------+-------+-----------+------+--------------+---------+------------+-------+-----------+------+\n",
      "|_corrupt_record|author|  body|content|content_len|    id|normalizedBody|subreddit|subreddit_id|summary|summary_len| title|\n",
      "+---------------+------+------+-------+-----------+------+--------------+---------+------------+-------+-----------+------+\n",
      "|         199278|200723|200723| 200723|     200723|200723|        200723|   200723|      200723| 200723|     200723|390187|\n",
      "+---------------+------+------+-------+-----------+------+--------------+---------+------------+-------+-----------+------+\n",
      "\n",
      "+----------------+--------------------+\n",
      "|          author|                body|\n",
      "+----------------+--------------------+\n",
      "|raysofdarkmatter|I think it should...|\n",
      "|            NULL|                NULL|\n",
      "|         Stork13|Art is about the ...|\n",
      "|            NULL|                NULL|\n",
      "|   Cloud_dreamer|Ask me what I thi...|\n",
      "+----------------+--------------------+\n",
      "only showing top 5 rows\n",
      "\n"
     ]
    },
    {
     "name": "stderr",
     "output_type": "stream",
     "text": [
      "                                                                                "
     ]
    }
   ],
   "source": [
    "# 检查缺失值\n",
    "reddit_df.select([count(when(isnan(c) | col(c).isNull(), c)).alias(c) for c in reddit_df.columns]).show()\n",
    "\n",
    "# 选择需要的列（author 和 body）\n",
    "reddit_df = reddit_df.select(\"author\", \"body\")\n",
    "\n",
    "# 检查清洗后的数据\n",
    "reddit_df.show(5)"
   ]
  },
  {
   "cell_type": "code",
   "execution_count": 102,
   "id": "54ad8d2f-3028-4193-bc8a-8e2d4e24a1ce",
   "metadata": {},
   "outputs": [
    {
     "name": "stdout",
     "output_type": "stream",
     "text": [
      "Time taken to process 200k dataset: 0.025665283203125 seconds\n",
      "\n"
     ]
    },
    {
     "name": "stderr",
     "output_type": "stream",
     "text": [
      "[Stage 63:==================================================>     (20 + 2) / 22]"
     ]
    },
    {
     "name": "stdout",
     "output_type": "stream",
     "text": [
      "+------------------+-------------+\n",
      "|            author|comment_count|\n",
      "+------------------+-------------+\n",
      "|    veni_vidi_vale|           21|\n",
      "|   hoitytoityklutz|            1|\n",
      "|            mjaybe|            4|\n",
      "|             vulpa|            1|\n",
      "|my_baby_ate_dingos|            3|\n",
      "|         ZeusMcFly|            3|\n",
      "|   WinSomeLoseNone|            1|\n",
      "|     Echo_from_XBL|            1|\n",
      "|       bfplayer123|            1|\n",
      "|        maddog1095|            1|\n",
      "+------------------+-------------+\n",
      "only showing top 10 rows\n",
      "\n"
     ]
    },
    {
     "name": "stderr",
     "output_type": "stream",
     "text": [
      "                                                                                "
     ]
    }
   ],
   "source": [
    "# 按用户分组并计算评论数量\n",
    "start_time = time.time()\n",
    "user_comment_count = reddit_df.groupBy(\"author\").agg(count(\"body\").alias(\"comment_count\"))\n",
    "\n",
    "# 将 comment_count 列转换为整数类型\n",
    "user_comment_count = user_comment_count.withColumn(\"comment_count\", col(\"comment_count\").cast(IntegerType()))\n",
    "\n",
    "end_time = time.time()\n",
    "\n",
    "# 输出处理时间\n",
    "processing_time = end_time - start_time\n",
    "print(f\"Time taken to process {dataset_size} dataset: {processing_time} seconds\\n\")\n",
    "\n",
    "# 查看分组后的数据\n",
    "user_comment_count.show(10)"
   ]
  },
  {
   "cell_type": "code",
   "execution_count": 103,
   "id": "a4d289d4-62d4-4940-a9f1-0ba981c70bf9",
   "metadata": {},
   "outputs": [
    {
     "name": "stderr",
     "output_type": "stream",
     "text": [
      "                                                                                "
     ]
    },
    {
     "name": "stdout",
     "output_type": "stream",
     "text": [
      "Results saved to result_200k.txt\n"
     ]
    }
   ],
   "source": [
    "# 将 Spark DataFrame 转换为 Pandas DataFrame\n",
    "user_comment_count_pd = user_comment_count.toPandas()\n",
    "\n",
    "# 统计所有不同次评论的数据\n",
    "comment_counts = user_comment_count_pd['comment_count'].value_counts().sort_index()\n",
    "\n",
    "# 输出结果到 txt 文件\n",
    "output_file = f\"result_{dataset_size}.txt\"\n",
    "with open(output_file, \"w\") as file:\n",
    "    file.write(f\"Results for {dataset_size} Dataset\\n\")\n",
    "    file.write(\"=\" * 30 + \"\\n\")\n",
    "    file.write(\"Comment Count\\tNumber of Users\\n\")\n",
    "    file.write(\"-\" * 30 + \"\\n\")\n",
    "    for count, num_users in comment_counts.items():\n",
    "        file.write(f\"{count}\\t\\t{num_users}\\n\")\n",
    "    file.write(\"=\" * 30 + \"\\n\")\n",
    "    file.write(f\"Total unique users: {len(comment_counts)}\\n\")\n",
    "    file.write(f\"Total comments: {comment_counts.sum()}\\n\")\n",
    "\n",
    "print(f\"Results saved to {output_file}\")"
   ]
  },
  {
   "cell_type": "code",
   "execution_count": 104,
   "id": "f0599764-4270-432c-b2d4-f180fffa66f6",
   "metadata": {},
   "outputs": [
    {
     "name": "stdout",
     "output_type": "stream",
     "text": [
      "Histogram saved to picture_200k.png\n"
     ]
    },
    {
     "data": {
      "image/png": "[encoded data removed]",
      "text/plain": [
       "<Figure size 1200x600 with 1 Axes>"
      ]
     },
     "metadata": {},
     "output_type": "display_data"
    }
   ],
   "source": [
    "# 绘制直方图\n",
    "plt.figure(figsize=(12, 6))\n",
    "bars = plt.bar(comment_counts.index, comment_counts.values, color='lightblue', edgecolor='none', width=0.8, alpha=0.8)\n",
    "\n",
    "for bar in bars:\n",
    "    height = bar.get_height()\n",
    "    plt.text(bar.get_x() + bar.get_width() / 2, height, int(height), \n",
    "             ha='center', va='bottom', fontsize=6, rotation=45)  # 字体大小改为6\n",
    "\n",
    "# 设置标题和坐标轴标签\n",
    "plt.title(f'Distribution of User Comments ({dataset_size} Dataset)')\n",
    "plt.xlabel('Number of Comments')\n",
    "plt.ylabel('Number of Users')\n",
    "\n",
    "# 如果 dataset_size 不是 500k 或 1500k，设置横坐标步长为5\n",
    "if dataset_size not in [\"500k\", \"1500k\"]:\n",
    "    plt.xticks(range(0, max(comment_counts.index) + 1, 5))\n",
    "\n",
    "# 去掉网格线\n",
    "plt.grid(False)\n",
    "\n",
    "# 保存直方图为图片文件\n",
    "histogram_file = f\"picture_{dataset_size}.png\"\n",
    "plt.savefig(histogram_file, bbox_inches='tight', dpi=300)\n",
    "print(f\"Histogram saved to {histogram_file}\")\n",
    "\n",
    "# 显示图形\n",
    "plt.show()"
   ]
  },
  {
   "cell_type": "code",
   "execution_count": 105,
   "id": "8f85c756-64b9-4458-b9b1-2d591245a512",
   "metadata": {},
   "outputs": [
    {
     "name": "stdout",
     "output_type": "stream",
     "text": [
      "Spark session finished!\n"
     ]
    }
   ],
   "source": [
    "spark_session.stop()\n",
    "print(f\"Spark session finished!\")"
   ]
  }
 ],
 "metadata": {
  "kernelspec": {
   "display_name": "Python 3 (ipykernel)",
   "language": "python",
   "name": "python3"
  },
  "language_info": {
   "codemirror_mode": {
    "name": "ipython",
    "version": 3
   },
   "file_extension": ".py",
   "mimetype": "text/x-python",
   "name": "python",
   "nbconvert_exporter": "python",
   "pygments_lexer": "ipython3",
   "version": "3.10.12"
  }
 },
 "nbformat": 4,
 "nbformat_minor": 5
}
