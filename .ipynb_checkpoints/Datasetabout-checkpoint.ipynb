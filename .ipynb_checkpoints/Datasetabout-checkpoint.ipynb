{
 "cells": [
  {
   "cell_type": "code",
   "execution_count": 19,
   "id": "f3003a26-3399-4638-a9e4-ac2b27908396",
   "metadata": {},
   "outputs": [
    {
     "name": "stdout",
     "output_type": "stream",
     "text": [
      "上传成功！\n"
     ]
    }
   ],
   "source": [
    "import subprocess\n",
    "\n",
    "# 本地文件夹路径\n",
    "local_folder = \"G14data\"\n",
    "\n",
    "# HDFS目标路径\n",
    "hdfs_path = \"hdfs://192.168.2.156:9000/data/\"\n",
    "\n",
    "# 使用hdfs命令上传文件夹\n",
    "command = f\"hdfs dfs -put {local_folder} {hdfs_path}\"\n",
    "\n",
    "# 执行命令\n",
    "process = subprocess.Popen(command, shell=True, stdout=subprocess.PIPE, stderr=subprocess.PIPE)\n",
    "stdout, stderr = process.communicate()\n",
    "\n",
    "# 输出结果\n",
    "if process.returncode == 0:\n",
    "    print(\"上传成功！\")\n",
    "else:\n",
    "    print(f\"上传失败，错误信息：{stderr.decode('utf-8')}\")"
   ]
  },
  {
   "cell_type": "code",
   "execution_count": 4,
   "id": "a7f0f4fe-8fd0-4129-a94b-5db1b0d2dbdf",
   "metadata": {},
   "outputs": [
    {
     "name": "stdout",
     "output_type": "stream",
     "text": [
      "File deleted successfully.\n",
      "Deleted hdfs://192.168.2.156:9000/data/G14data/redditdata_1.5k.json\n",
      "\n",
      "File does not exist (deleted successfully).\n"
     ]
    }
   ],
   "source": [
    "import subprocess\n",
    "\n",
    "# 定义要删除的文件路径\n",
    "hdfs_file_path = \"hdfs://192.168.2.156:9000/data/G14data/redditdata_150k.json\"\n",
    "\n",
    "# 删除文件\n",
    "try:\n",
    "    hadoop_command = f\"hdfs dfs -rm -r {hdfs_file_path}\"\n",
    "    result = subprocess.run(hadoop_command, shell=True, check=True, capture_output=True, text=True)\n",
    "    print(\"File deleted successfully.\")\n",
    "    print(result.stdout)\n",
    "except subprocess.CalledProcessError as e:\n",
    "    print(\"Failed to delete file.\")\n",
    "    print(e.stderr)\n",
    "\n",
    "# 验证文件是否已删除\n",
    "try:\n",
    "    hadoop_check_command = f\"hdfs dfs -test -e {hdfs_file_path}\"\n",
    "    subprocess.run(hadoop_check_command, shell=True, check=True)\n",
    "    print(\"File still exists.\")\n",
    "except subprocess.CalledProcessError:\n",
    "    print(\"File does not exist (deleted successfully).\")"
   ]
  },
  {
   "cell_type": "code",
   "execution_count": 2,
   "id": "d84e8163-dcfa-4875-8975-eba16e2fe65f",
   "metadata": {},
   "outputs": [
    {
     "name": "stdout",
     "output_type": "stream",
     "text": [
      "下载失败，错误信息: get: `hdfs://192.168.2.156:9000/data/reddit/reddit_1.5k.json': No such file or directory\n",
      "\n"
     ]
    }
   ],
   "source": [
    "import subprocess\n",
    "\n",
    "# HDFS 文件路径\n",
    "hdfs_path = 'hdfs://192.168.2.156:9000/data/reddit/reddit_50k.json'\n",
    "\n",
    "# 本地文件路径\n",
    "local_path = 'reddit_50k.json'\n",
    "\n",
    "# 使用 Hadoop 命令行工具下载文件\n",
    "command = f\"hdfs dfs -get {hdfs_path} {local_path}\"\n",
    "\n",
    "# 执行命令\n",
    "result = subprocess.run(command, shell=True, stdout=subprocess.PIPE, stderr=subprocess.PIPE)\n",
    "\n",
    "# 检查命令执行结果\n",
    "if result.returncode == 0:\n",
    "    print(f\"文件已成功下载到: {local_path}\")\n",
    "else:\n",
    "    print(f\"下载失败，错误信息: {result.stderr.decode('utf-8')}\")"
   ]
  },
  {
   "cell_type": "code",
   "execution_count": null,
   "id": "e86fe9ee-81d4-4067-8be4-f1e173271dbc",
   "metadata": {},
   "outputs": [],
   "source": []
  }
 ],
 "metadata": {
  "kernelspec": {
   "display_name": "Python 3 (ipykernel)",
   "language": "python",
   "name": "python3"
  },
  "language_info": {
   "codemirror_mode": {
    "name": "ipython",
    "version": 3
   },
   "file_extension": ".py",
   "mimetype": "text/x-python",
   "name": "python",
   "nbconvert_exporter": "python",
   "pygments_lexer": "ipython3",
   "version": "3.10.12"
  }
 },
 "nbformat": 4,
 "nbformat_minor": 5
}
